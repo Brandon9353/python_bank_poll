{
 "cells": [
  {
   "cell_type": "code",
   "execution_count": 33,
   "id": "679a3736-39cc-4e89-b2ea-1328628a5573",
   "metadata": {},
   "outputs": [
    {
     "name": "stdout",
     "output_type": "stream",
     "text": [
      "Financial Anyalysis\n",
      "-------------------\n",
      "Total Months: 86\n",
      "Total Value:$22564198'\n",
      "'Average Change:$-8311.11\n",
      "Greatest Increase in Profits: Aug-16($1862002)\n",
      "Greatest Decrease in Profits: Feb-14($-1825558)\n"
     ]
    }
   ],
   "source": [
    "import csv\n",
    "import os\n",
    "\n",
    "file_to_load = os.path.join(\".\", \"Resources\",\"budget_data.csv\")\n",
    "file_to_output = os.path.join(\".\",\"budget_analysis.txt\")\n",
    "\n",
    "total_months = 0\n",
    "total_net = 0\n",
    "net_change = 0\n",
    "net_change_list = []\n",
    "month_of_changes =[]\n",
    "greatest = [\"\",0]\n",
    "least = [\"\",999999999999999]\n",
    "with open(file_to_load) as financial_data:\n",
    "    reader = csv.reader(financial_data)\n",
    "    \n",
    "    header = next(reader)\n",
    "    first_row = next(reader)\n",
    "    \n",
    "    total_net += int(first_row[1])\n",
    "    previous_net = int(first_row[1])\n",
    "\n",
    "    total_months =+ 1\n",
    "    \n",
    "    for row in reader:\n",
    "        \n",
    "        total_months += 1\n",
    "        total_net += int(row[1])\n",
    "        \n",
    "        net_change = int(row[1])-previous_net\n",
    "        previous_net = int(row[1])\n",
    "        net_change_list.append(net_change)\n",
    "\n",
    "\n",
    "        if(net_change > greatest[1]):\n",
    "            greatest[0] = row[0]\n",
    "            greatest[1] = net_change\n",
    "        if(net_change<least[1]):\n",
    "            least[0] = row[0]\n",
    "            least[1] = net_change\n",
    "\n",
    "net_monthly_average = sum(net_change_list)/ len(net_change_list)\n",
    "    \n",
    "output = (\n",
    "    f\"Financial Anyalysis\\n\"\n",
    "    f\"-------------------\\n\"\n",
    "    f\"Total Months: {total_months}\\n\"\n",
    "    f\"Total Value:${total_net}'\\n'\"\n",
    "    f\"Average Change:${net_monthly_average:.2f}\\n\"\n",
    "    f\"Greatest Increase in Profits: {greatest[0]}(${greatest[1]})\\n\"\n",
    "    f\"Greatest Decrease in Profits: {least[0]}(${least[1]})\"\n",
    " )\n",
    "\n",
    "print (output)\n",
    "    \n",
    "    "
   ]
  },
  {
   "cell_type": "code",
   "execution_count": null,
   "id": "25e729da-47e7-4396-b564-3e101d19aa22",
   "metadata": {},
   "outputs": [],
   "source": []
  },
  {
   "cell_type": "code",
   "execution_count": null,
   "id": "07d8ee81-404a-47b5-ac29-393d205ab39e",
   "metadata": {},
   "outputs": [],
   "source": []
  },
  {
   "cell_type": "code",
   "execution_count": null,
   "id": "5ad41b9f-a064-4f72-a434-d0b62aa2818d",
   "metadata": {},
   "outputs": [],
   "source": []
  },
  {
   "cell_type": "code",
   "execution_count": null,
   "id": "d6d42254-c693-4afb-8544-01232db4525c",
   "metadata": {},
   "outputs": [],
   "source": []
  },
  {
   "cell_type": "code",
   "execution_count": null,
   "id": "32ecdea7-b5ab-41f8-97f8-6200ac687129",
   "metadata": {},
   "outputs": [],
   "source": []
  },
  {
   "cell_type": "code",
   "execution_count": null,
   "id": "1271011a-faa8-4863-8084-abc02156f729",
   "metadata": {},
   "outputs": [],
   "source": []
  },
  {
   "cell_type": "code",
   "execution_count": null,
   "id": "b1a39de6-9f72-4c76-bcc5-bbf91af0b1ef",
   "metadata": {},
   "outputs": [],
   "source": []
  },
  {
   "cell_type": "code",
   "execution_count": null,
   "id": "cdbae687-3c71-4125-bbd8-60d2dedda2d4",
   "metadata": {},
   "outputs": [],
   "source": []
  }
 ],
 "metadata": {
  "kernelspec": {
   "display_name": "Python 3 (ipykernel)",
   "language": "python",
   "name": "python3"
  },
  "language_info": {
   "codemirror_mode": {
    "name": "ipython",
    "version": 3
   },
   "file_extension": ".py",
   "mimetype": "text/x-python",
   "name": "python",
   "nbconvert_exporter": "python",
   "pygments_lexer": "ipython3",
   "version": "3.11.7"
  }
 },
 "nbformat": 4,
 "nbformat_minor": 5
}
