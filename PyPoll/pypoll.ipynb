{
 "cells": [
  {
   "cell_type": "code",
   "execution_count": 6,
   "id": "7c5e5d22-0fc4-4c1c-82ff-5892a5baf0ee",
   "metadata": {},
   "outputs": [
    {
     "name": "stdout",
     "output_type": "stream",
     "text": [
      "{'Raymon Anthony Doane': 1}\n",
      "['Raymon Anthony Doane']\n",
      "Election Results\n",
      "--------------------\n",
      "Total Votes 369711\n",
      "--------------------\n",
      "Raymon Anthony Doane: 36971100.000%(1)\n",
      "-----------------------\n",
      "Winner:Raymon Anthony Doane\n",
      "-----------------------\n",
      "\n"
     ]
    }
   ],
   "source": [
    "import csv\n",
    "import os\n",
    "\n",
    "file_to_load = os.path.join(\".\",\"Resources\",\"election_data.csv\")\n",
    "file_to_output = os.path.join(\".\",\"election_anaylisis.txt\")\n",
    "candidate =[]\n",
    "total_votes = 0\n",
    "candidate_votes ={}\n",
    "candidate_options = []\n",
    "winning_candidate=\"\"\n",
    "winning_count = 0\n",
    "\n",
    "with open(file_to_load) as election_data:\n",
    "    reader = csv.reader(election_data)\n",
    "\n",
    "    header = next(reader)\n",
    "    \n",
    "    for row in reader:\n",
    "        total_votes = total_votes + 1\n",
    "\n",
    "    candidate_name = row[2]\n",
    "\n",
    "    if candidate_name not in candidate_options:\n",
    "        candidate_options.append(candidate_name)\n",
    "        candidate_votes[candidate_name] = 0\n",
    "\n",
    "        candidate_votes[candidate_name] += 1\n",
    "\n",
    "    print(candidate_votes)\n",
    "    print(candidate_options)\n",
    "    with open(file_to_output, \"w\") as txt_file:\n",
    "        election_results =(\n",
    "    f\"Election Results\\n\"\n",
    "    f\"--------------------\\n\"\n",
    "    f\"Total Votes {total_votes}\\n\"\n",
    "    f\"--------------------\\n\"\n",
    "    \n",
    ")\n",
    "    \n",
    "\n",
    "    print(election_results, end=\"\")\n",
    "\n",
    "    for candidate in candidate_votes:\n",
    "       votes = candidate_votes[candidate]\n",
    "    vote_percentage = float(total_votes) /float (votes)*100\n",
    "\n",
    "    if(total_votes > winning_count):\n",
    "        winning_count = votes\n",
    "        winning_candidate = candidate\n",
    "\n",
    "        if(total_votes>winning_count):\n",
    "            Winning_count = votes\n",
    "            winning_candidate = candidate\n",
    "\n",
    "        voter_output = f\"{candidate}: {vote_percentage:.3f}%({votes})\\n\"\n",
    "    \n",
    "   \n",
    "    print(voter_output,end=\"\")\n",
    " \n",
    "    winning_candidate_summary=(\n",
    "        f\"-----------------------\\n\"\n",
    "        f\"Winner:{winning_candidate}\\n\"\n",
    "        f\"-----------------------\\n\"\n",
    "    )\n",
    "print(winning_candidate_summary)\n",
    "\n"
   ]
  },
  {
   "cell_type": "code",
   "execution_count": null,
   "id": "8f01eade-4f42-4541-99ed-24bd568c39d9",
   "metadata": {},
   "outputs": [],
   "source": []
  },
  {
   "cell_type": "code",
   "execution_count": null,
   "id": "ec9940c6-fbfd-49fd-aa1d-c77cddafac69",
   "metadata": {},
   "outputs": [],
   "source": []
  }
 ],
 "metadata": {
  "kernelspec": {
   "display_name": "Python 3 (ipykernel)",
   "language": "python",
   "name": "python3"
  },
  "language_info": {
   "codemirror_mode": {
    "name": "ipython",
    "version": 3
   },
   "file_extension": ".py",
   "mimetype": "text/x-python",
   "name": "python",
   "nbconvert_exporter": "python",
   "pygments_lexer": "ipython3",
   "version": "3.11.7"
  }
 },
 "nbformat": 4,
 "nbformat_minor": 5
}
